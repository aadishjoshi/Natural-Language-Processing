{
 "cells": [
  {
   "cell_type": "code",
   "execution_count": 1,
   "metadata": {},
   "outputs": [],
   "source": [
    "#imports\n",
    "import nltk\n",
    "import random\n",
    "import re\n",
    "import numpy as np"
   ]
  },
  {
   "cell_type": "code",
   "execution_count": 2,
   "metadata": {},
   "outputs": [],
   "source": [
    "# find term countext matrix count with context and term window of 5 on left and 5 right of the word\n",
    "def find_term_context_count(paragraph, context, term):\n",
    "    count = 0\n",
    "    \n",
    "    for sentences in paragraph:\n",
    "        words = nltk.word_tokenize(sentences)\n",
    "        words=[word.lower() for word in words if word.isalpha()]\n",
    "        \n",
    "        if context in words:\n",
    "            word_index = words.index(context)\n",
    "            \n",
    "            if term in (words[max(0,word_index-5):min(word_index+6,len(words))]):\n",
    "                count += 1\n",
    "                \n",
    "    return count"
   ]
  },
  {
   "cell_type": "code",
   "execution_count": 3,
   "metadata": {},
   "outputs": [],
   "source": [
    "#readfile\n",
    "myfile = open(\"inputforbigrams.txt\",\"r\")\n",
    "paragraph = myfile.readlines()"
   ]
  },
  {
   "cell_type": "code",
   "execution_count": 4,
   "metadata": {},
   "outputs": [],
   "source": [
    "# chairman and company count\n",
    "chairman_said = find_term_context_count(paragraph, \"chairman\", \"said\")\n",
    "chairman_of = find_term_context_count(paragraph, \"chairman\", \"of\" )\n",
    "chairman_board = find_term_context_count(paragraph, \"chairman\", \"board\" )\n",
    "\n",
    "company_said = find_term_context_count(paragraph, \"company\", \"said\")\n",
    "company_of = find_term_context_count(paragraph, \"company\", \"of\")\n",
    "company_board = find_term_context_count(paragraph, \"company\", \"board\")"
   ]
  },
  {
   "cell_type": "code",
   "execution_count": 5,
   "metadata": {},
   "outputs": [
    {
     "name": "stdout",
     "output_type": "stream",
     "text": [
      "[[122. 292.  15.]\n",
      " [ 23.  57.  26.]]\n"
     ]
    }
   ],
   "source": [
    "#Term context matrix\n",
    "TermContextMatrix = np.zeros((2,3))\n",
    "\n",
    "TermContextMatrix[0,0] = chairman_said\n",
    "TermContextMatrix[0,1] = chairman_of\n",
    "TermContextMatrix[0,2] = chairman_board\n",
    "\n",
    "TermContextMatrix[1,0] = company_said\n",
    "TermContextMatrix[1,1] = company_of\n",
    "TermContextMatrix[1,2] = company_board\n",
    "\n",
    "print(TermContextMatrix)"
   ]
  },
  {
   "cell_type": "code",
   "execution_count": 6,
   "metadata": {},
   "outputs": [
    {
     "name": "stdout",
     "output_type": "stream",
     "text": [
      "535.0\n"
     ]
    }
   ],
   "source": [
    "#finding N\n",
    "N = np.sum(TermContextMatrix)\n",
    "print(N)"
   ]
  },
  {
   "cell_type": "code",
   "execution_count": 7,
   "metadata": {},
   "outputs": [
    {
     "name": "stdout",
     "output_type": "stream",
     "text": [
      "[145. 349.  41.]\n"
     ]
    }
   ],
   "source": [
    "# vertical sum\n",
    "p_context = np.sum(TermContextMatrix, axis=0)\n",
    "print(p_context)"
   ]
  },
  {
   "cell_type": "code",
   "execution_count": 8,
   "metadata": {},
   "outputs": [
    {
     "name": "stdout",
     "output_type": "stream",
     "text": [
      "[429. 106.]\n"
     ]
    }
   ],
   "source": [
    "# horizontal sum\n",
    "p_information = np.sum(TermContextMatrix, axis=1)\n",
    "print(p_information)"
   ]
  },
  {
   "cell_type": "code",
   "execution_count": 9,
   "metadata": {},
   "outputs": [
    {
     "name": "stdout",
     "output_type": "stream",
     "text": [
      "[[ 0.06938949  0.06130258 -1.13210017]\n",
      " [-0.32087251 -0.27871859  1.67836234]]\n"
     ]
    }
   ],
   "source": [
    "# PMI Matrix\n",
    "import math\n",
    "def pmi_matrix(TermContextMatrix, N):\n",
    "    \n",
    "    (row,col) = TermContextMatrix.shape         \n",
    "    \n",
    "    PMIMatrix = np.zeros((row,col))\n",
    "    \n",
    "    for i in range(row):\n",
    "        for j in range(col):\n",
    "            pij = TermContextMatrix[i,j] / N\n",
    "            pw = p_information[i] / N\n",
    "            pc = p_context[j] / N\n",
    "            try:\n",
    "                PMIMatrix[i,j] = math.log((pij/(pw*pc)),2)\n",
    "            except:\n",
    "                PMIMatrix[i,j] = 0\n",
    "    return PMIMatrix\n",
    "\n",
    "PMIMatrix = pmi_matrix(TermContextMatrix, N)\n",
    "print(PMIMatrix)"
   ]
  },
  {
   "cell_type": "code",
   "execution_count": 10,
   "metadata": {},
   "outputs": [
    {
     "name": "stdout",
     "output_type": "stream",
     "text": [
      "[[0.06938949 0.06130258 0.        ]\n",
      " [0.         0.         1.67836234]]\n"
     ]
    }
   ],
   "source": [
    "#PPMI Matrix\n",
    "def ppmi_matrix(PMIMatrix):\n",
    "    (row,col) = PMIMatrix.shape         \n",
    "    \n",
    "    PPMIMatrix = np.zeros((row,col))\n",
    "    \n",
    "    for i in range(row):\n",
    "        for j in range(col):\n",
    "            pmi = PMIMatrix[i,j]\n",
    "            if(pmi < 0):\n",
    "                PPMIMatrix[i,j] = 0\n",
    "            else:\n",
    "                PPMIMatrix[i,j] = pmi\n",
    "    return PPMIMatrix\n",
    "print(ppmi_matrix(PMIMatrix))"
   ]
  },
  {
   "cell_type": "code",
   "execution_count": 11,
   "metadata": {},
   "outputs": [],
   "source": [
    "############# add 2 smoothing ########## "
   ]
  },
  {
   "cell_type": "code",
   "execution_count": 11,
   "metadata": {},
   "outputs": [
    {
     "name": "stdout",
     "output_type": "stream",
     "text": [
      "[[124. 294.  17.]\n",
      " [ 25.  59.  28.]]\n"
     ]
    }
   ],
   "source": [
    "# Term Context Matrix Smoothed\n",
    "TermContextMatrix_smoothed = np.zeros((2,3))\n",
    "\n",
    "TermContextMatrix_smoothed[0,0] = chairman_said +2\n",
    "TermContextMatrix_smoothed[0,1] = chairman_of + 2\n",
    "TermContextMatrix_smoothed[0,2] = chairman_board + 2\n",
    "\n",
    "TermContextMatrix_smoothed[1,0] = company_said + 2\n",
    "TermContextMatrix_smoothed[1,1] = company_of + 2\n",
    "TermContextMatrix_smoothed[1,2] = company_board + 2\n",
    "\n",
    "print(TermContextMatrix_smoothed)\n",
    "\n",
    "# N should increase by 2 * number of elements  = 2* 6 = 12\n",
    "N = N + 12"
   ]
  },
  {
   "cell_type": "code",
   "execution_count": 12,
   "metadata": {},
   "outputs": [
    {
     "name": "stdout",
     "output_type": "stream",
     "text": [
      "[[ 0.12485041  0.1031523  -0.91952598]\n",
      " [-0.16857633 -0.19696361  1.81727949]]\n"
     ]
    }
   ],
   "source": [
    "# smoothed PMI Matrix\n",
    "def pmi_matrix_smoothed(TermContextMatrix_smoothed, N):\n",
    "    \n",
    "    (row,col) = TermContextMatrix_smoothed.shape         \n",
    "    \n",
    "    PMIMatrix_smoothed = np.zeros((row,col))\n",
    "    \n",
    "    for i in range(row):\n",
    "        for j in range(col):\n",
    "            pij = TermContextMatrix_smoothed[i,j] / N\n",
    "            pw = p_information[i] / N\n",
    "            pc = p_context[j] / N\n",
    "            try:\n",
    "                PMIMatrix_smoothed[i,j] = math.log((pij/(pw*pc)),2)\n",
    "            except:\n",
    "                PMIMatrix_smoothed[i,j] = 0\n",
    "    return PMIMatrix_smoothed\n",
    "\n",
    "PMIMatrix_smoothed = pmi_matrix(TermContextMatrix_smoothed, N)\n",
    "print(PMIMatrix_smoothed)"
   ]
  },
  {
   "cell_type": "code",
   "execution_count": 13,
   "metadata": {},
   "outputs": [
    {
     "name": "stdout",
     "output_type": "stream",
     "text": [
      "[[0.12485041 0.1031523  0.        ]\n",
      " [0.         0.         1.81727949]]\n"
     ]
    }
   ],
   "source": [
    "# Smoothed PPMI Matrix\n",
    "def ppmi_matrix_smoothed(PMIMatrix_smoothed):\n",
    "    (row,col) = PMIMatrix_smoothed.shape         \n",
    "    \n",
    "    PPMIMatrix_smoothed = np.zeros((row,col))\n",
    "    \n",
    "    for i in range(row):\n",
    "        for j in range(col):\n",
    "            pmi = PMIMatrix_smoothed[i,j]\n",
    "            if(pmi < 0):\n",
    "                PPMIMatrix_smoothed[i,j] = 0\n",
    "            else:\n",
    "                PPMIMatrix_smoothed[i,j] = pmi\n",
    "    return PPMIMatrix_smoothed\n",
    "print(ppmi_matrix_smoothed(PMIMatrix_smoothed))"
   ]
  },
  {
   "cell_type": "code",
   "execution_count": 17,
   "metadata": {},
   "outputs": [],
   "source": [
    "#************* Testing PROBLEM 3.3 *********"
   ]
  },
  {
   "cell_type": "code",
   "execution_count": 14,
   "metadata": {},
   "outputs": [],
   "source": [
    "# Problem 3-3\n",
    "chairman_said = find_term_context_count(paragraph, \"chairman\", \"said\")\n",
    "chairman_of = find_term_context_count(paragraph, \"chairman\", \"of\" )\n",
    "chairman_board = find_term_context_count(paragraph, \"chairman\", \"board\" )\n",
    "\n",
    "company_said = find_term_context_count(paragraph, \"company\", \"said\")\n",
    "company_of = find_term_context_count(paragraph, \"company\", \"of\")\n",
    "company_board = find_term_context_count(paragraph, \"company\", \"board\")\n",
    "\n",
    "sales_said = find_term_context_count(paragraph, \"sales\", \"said\")\n",
    "sales_of = find_term_context_count(paragraph, \"sales\", \"of\")\n",
    "sales_board = find_term_context_count(paragraph, \"sales\", \"board\")\n",
    "\n",
    "economy_said = find_term_context_count(paragraph, \"economy\", \"said\")\n",
    "economy_of = find_term_context_count(paragraph, \"economy\", \"of\")\n",
    "economy_board = find_term_context_count(paragraph, \"economy\", \"board\")"
   ]
  },
  {
   "cell_type": "code",
   "execution_count": 15,
   "metadata": {},
   "outputs": [
    {
     "name": "stdout",
     "output_type": "stream",
     "text": [
      "[[122. 292.  15.]\n",
      " [ 23.  57.  26.]\n",
      " [  3.   4.   0.]\n",
      " [  1.   4.   0.]]\n"
     ]
    }
   ],
   "source": [
    "TCM = np.zeros((4,3))\n",
    "\n",
    "TCM[0,0] = chairman_said\n",
    "TCM[0,1] = chairman_of\n",
    "TCM[0,2] = chairman_board\n",
    "\n",
    "TCM[1,0] = company_said\n",
    "TCM[1,1] = company_of\n",
    "TCM[1,2] = company_board\n",
    "\n",
    "TCM[2,0] = sales_said\n",
    "TCM[2,1] = sales_of\n",
    "TCM[2,2] = sales_board\n",
    "\n",
    "TCM[3,0] = economy_said\n",
    "TCM[3,1] = economy_of\n",
    "TCM[3,2] = economy_board\n",
    "\n",
    "print(TCM)"
   ]
  },
  {
   "cell_type": "code",
   "execution_count": 16,
   "metadata": {},
   "outputs": [
    {
     "name": "stdout",
     "output_type": "stream",
     "text": [
      "[149. 357.  41.]\n",
      "[429. 106.   7.   5.]\n"
     ]
    }
   ],
   "source": [
    "N = np.sum(TCM)\n",
    "p_all_context = np.sum(TCM, axis=0)\n",
    "print(p_all_context)\n",
    "p_all_information = np.sum(TCM, axis=1)\n",
    "print(p_all_information)"
   ]
  },
  {
   "cell_type": "code",
   "execution_count": 18,
   "metadata": {},
   "outputs": [
    {
     "name": "stdout",
     "output_type": "stream",
     "text": [
      "[[ 0.062132    0.06060748 -1.10009822]\n",
      " [-0.32813    -0.27941368  1.71036428]\n",
      " [ 0.65383608 -0.19173816  0.        ]\n",
      " [-0.44569959  0.29368866  0.        ]]\n"
     ]
    }
   ],
   "source": [
    "import math\n",
    "def pmi_matrix(TCM, N):\n",
    "    \n",
    "    (row,col) = TCM.shape         \n",
    "    \n",
    "    PMI = np.zeros((row,col))\n",
    "    \n",
    "    for i in range(row):\n",
    "        for j in range(col):\n",
    "            pij = TCM[i,j] / N\n",
    "            pw = p_all_information[i] / N\n",
    "            pc = p_all_context[j] / N\n",
    "            try:\n",
    "                PMI[i,j] = math.log((pij/(pw*pc)),2)\n",
    "            except:\n",
    "                PMI[i,j] = 0\n",
    "    return PMI\n",
    "\n",
    "PMIMatrix = pmi_matrix(TCM, N)\n",
    "print(PMIMatrix)"
   ]
  },
  {
   "cell_type": "code",
   "execution_count": 20,
   "metadata": {},
   "outputs": [
    {
     "name": "stdout",
     "output_type": "stream",
     "text": [
      "[[0.062132   0.06060748 0.        ]\n",
      " [0.         0.         1.71036428]\n",
      " [0.65383608 0.         0.        ]\n",
      " [0.         0.29368866 0.        ]]\n"
     ]
    }
   ],
   "source": [
    "def ppmi_matrix(TCM):\n",
    "    (row,col) = TCM.shape         \n",
    "    \n",
    "    PPMI = np.zeros((row,col))\n",
    "    \n",
    "    for i in range(row):\n",
    "        for j in range(col):\n",
    "            pmi = TCM[i,j]\n",
    "            if(pmi < 0):\n",
    "                PPMI[i,j] = 0\n",
    "            else:\n",
    "                PPMI[i,j] = pmi\n",
    "    return PPMI\n",
    "print(ppmi_matrix(PMIMatrix))"
   ]
  }
 ],
 "metadata": {
  "kernelspec": {
   "display_name": "Python 3",
   "language": "python",
   "name": "python3"
  },
  "language_info": {
   "codemirror_mode": {
    "name": "ipython",
    "version": 3
   },
   "file_extension": ".py",
   "mimetype": "text/x-python",
   "name": "python",
   "nbconvert_exporter": "python",
   "pygments_lexer": "ipython3",
   "version": "3.6.5"
  }
 },
 "nbformat": 4,
 "nbformat_minor": 2
}
