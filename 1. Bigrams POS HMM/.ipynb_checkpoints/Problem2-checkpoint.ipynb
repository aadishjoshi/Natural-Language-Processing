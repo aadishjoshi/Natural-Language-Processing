{
 "cells": [
  {
   "cell_type": "code",
   "execution_count": 1,
   "metadata": {},
   "outputs": [],
   "source": [
    "#imports\n",
    "import nltk\n",
    "import random\n",
    "import re\n",
    "import numpy as np"
   ]
  },
  {
   "cell_type": "code",
   "execution_count": 2,
   "metadata": {},
   "outputs": [],
   "source": [
    "#Pre-processing the data. Adding start and end tag\n",
    "def preprocess(paragraph):\n",
    "    \n",
    "    data = \"\"\n",
    "    \n",
    "    for sentences in paragraph:\n",
    "        data += '<s> '+sentences.strip()+' </s> ';\n",
    "    \n",
    "    return data"
   ]
  },
  {
   "cell_type": "code",
   "execution_count": 3,
   "metadata": {},
   "outputs": [],
   "source": [
    "#readfile\n",
    "myfile = open(\"inputforbigrams.txt\",\"r\")\n",
    "\n",
    "paragraph = myfile.readlines()\n",
    "\n",
    "data = preprocess(paragraph)"
   ]
  },
  {
   "cell_type": "code",
   "execution_count": 4,
   "metadata": {},
   "outputs": [
    {
     "name": "stdout",
     "output_type": "stream",
     "text": [
      "<s> Richard W. Lock , retired vice president and treasurer of Owens-Illinois Inc. , was named a director of this transportation industry supplier , increasing its board to six members . </s> <s> John J. Phelan Jr. , chairman of the Big Board , asserts that `` 1988 and 1989 have been two of the least volatile years in the last 30 or 40 years . '' </s> <s> In January , American Medical brought in a new chief executive officer , Richard A. Gilleland , 45 , who will remain as chairman , president an\n"
     ]
    }
   ],
   "source": [
    "#Quick data check\n",
    "print(data[:500])"
   ]
  },
  {
   "cell_type": "code",
   "execution_count": 5,
   "metadata": {},
   "outputs": [],
   "source": [
    "#Bigram count Table\n",
    "from collections import Counter\n",
    "from nltk.util import ngrams "
   ]
  },
  {
   "cell_type": "code",
   "execution_count": 6,
   "metadata": {},
   "outputs": [],
   "source": [
    "#unigram definition\n",
    "def unigrams(data):\n",
    "    unigramSplit = data.split()\n",
    "    return unigramSplit"
   ]
  },
  {
   "cell_type": "code",
   "execution_count": 7,
   "metadata": {},
   "outputs": [],
   "source": [
    "#bigram definition\n",
    "def bigrams(data):\n",
    "    unigramSplit = data.split()\n",
    "    return list(zip(unigramSplit, unigramSplit[1:]))"
   ]
  },
  {
   "cell_type": "code",
   "execution_count": 8,
   "metadata": {},
   "outputs": [],
   "source": [
    "# calculating unigram matrix \n",
    "unigramSplit = unigrams(data)\n",
    "\n",
    "unigramCounter = Counter(unigramSplit)\n",
    "\n",
    "unigramCountsDict = dict(unigramCounter.items())\n",
    "\n",
    "unigramCounts = list(unigramCounter.items())\n",
    "\n",
    "uniMatrix = np.matrix(unigramCounts)\n",
    "\n",
    "\n",
    "#print('*************unigramCountsMatrix***********')\n",
    "#print(uniMatrix)\n",
    "\n",
    "\n",
    "#print('***********unigramCountsDict*************')\n",
    "#print(unigramCountsDict)"
   ]
  },
  {
   "cell_type": "code",
   "execution_count": 9,
   "metadata": {},
   "outputs": [],
   "source": [
    "# calculating bigram matrix\n",
    "bigramSplit = bigrams(data)\n",
    "\n",
    "bigramCounter = Counter(bigramSplit)\n",
    "\n",
    "bigramCountsDict = dict(bigramCounter.items())\n",
    "\n",
    "bigramCounts = list(bigramCounter.items())\n",
    "\n",
    "bigramCountsMatrix = np.matrix(bigramCounts)\n",
    "\n",
    "#print('*************bigramCountsMatrix***********')\n",
    "#print(bigramCountsMatrix)\n",
    "\n",
    "\n",
    "#print('***********bigramCountsDict*************')\n",
    "#print(bigramCountsDict)"
   ]
  },
  {
   "cell_type": "code",
   "execution_count": 10,
   "metadata": {},
   "outputs": [],
   "source": [
    "#Bigram counts and probabilities\n",
    "probabilities = {}\n",
    "\n",
    "for word in bigramCounts:\n",
    "    Ci = word[1]\n",
    "    N = unigramCountsDict[word[0][0]]\n",
    "    \n",
    "    try:\n",
    "        probabilities[(word[0][0], word[0][1])] = round(Ci/N,2)\n",
    "    except:\n",
    "        probabilities[(word[0][0], word[0][1])] = 0\n",
    "    \n",
    "#print(probabilities)"
   ]
  },
  {
   "cell_type": "code",
   "execution_count": 11,
   "metadata": {},
   "outputs": [],
   "source": [
    "# Bigram Probabilities\n",
    "probabilities = {}\n",
    "\n",
    "for i in unigramCounts:\n",
    "    for j in unigramCounts:\n",
    "        try:\n",
    "            Ci = bigramCountsDict[(i[0], j[0])]\n",
    "            N  = unigramCountsDict[i[0]];\n",
    "            probabilities[(i[0], j[0])] = Ci/N\n",
    "        except:\n",
    "            probabilities[(i[0], j[0])] = 0\n",
    "            \n",
    "#print(probabilities)"
   ]
  },
  {
   "cell_type": "code",
   "execution_count": 12,
   "metadata": {},
   "outputs": [],
   "source": [
    "#*********************test the data**************"
   ]
  },
  {
   "cell_type": "code",
   "execution_count": 13,
   "metadata": {},
   "outputs": [],
   "source": [
    "# Reading test data\n",
    "f = open(\"testbigramInput.txt\",\"r\")\n",
    "\n",
    "test_paragraph = f.readlines()\n",
    "\n",
    "testdata = preprocess(test_paragraph)"
   ]
  },
  {
   "cell_type": "code",
   "execution_count": 14,
   "metadata": {},
   "outputs": [
    {
     "name": "stdout",
     "output_type": "stream",
     "text": [
      "<s> The new products and services contributed to increase revenue . </s> \n"
     ]
    }
   ],
   "source": [
    "# quick test data check\n",
    "print(testdata)"
   ]
  },
  {
   "cell_type": "code",
   "execution_count": 15,
   "metadata": {},
   "outputs": [
    {
     "name": "stdout",
     "output_type": "stream",
     "text": [
      "[('<s>', 'The'), ('The', 'new'), ('new', 'products'), ('products', 'and'), ('and', 'services'), ('services', 'contributed'), ('contributed', 'to'), ('to', 'increase'), ('increase', 'revenue'), ('revenue', '.'), ('.', '</s>')]\n"
     ]
    }
   ],
   "source": [
    "# split the data into bigrams\n",
    "bigramTestSplit = bigrams(testdata)\n",
    "print(bigramTestSplit)"
   ]
  },
  {
   "cell_type": "code",
   "execution_count": 16,
   "metadata": {},
   "outputs": [
    {
     "name": "stdout",
     "output_type": "stream",
     "text": [
      "0.127\n",
      "0.02631578947368421\n",
      "0.015151515151515152\n",
      "0.23076923076923078\n",
      "0.0029542097488921715\n",
      "0.07692307692307693\n",
      "0.6666666666666666\n",
      "0.0030816640986132513\n",
      "0.14285714285714285\n",
      "0.14285714285714285\n",
      "0.9259259259259259\n",
      "1.0309230980059047e-13\n"
     ]
    }
   ],
   "source": [
    "# find the probabilities by refering to the dictionaries\n",
    "TestProb = 1;\n",
    "for i in bigramTestSplit:\n",
    "    try:\n",
    "        print(probabilities[i])\n",
    "        TestProb = TestProb * probabilities[i]\n",
    "    except:\n",
    "        print(\"notfound\")\n",
    "\n",
    "print(TestProb)"
   ]
  },
  {
   "cell_type": "code",
   "execution_count": 17,
   "metadata": {},
   "outputs": [
    {
     "name": "stdout",
     "output_type": "stream",
     "text": [
      "***********Using Laplace Smoothing *************\n"
     ]
    }
   ],
   "source": [
    "print('***********Using Laplace Smoothing *************')"
   ]
  },
  {
   "cell_type": "code",
   "execution_count": 18,
   "metadata": {},
   "outputs": [
    {
     "name": "stdout",
     "output_type": "stream",
     "text": [
      "5608\n"
     ]
    }
   ],
   "source": [
    "#laplacian smoothing, Vocabulary is number of unique words in the unigrams\n",
    "Vocabulary = len(unigramCounts)\n",
    "print(Vocabulary)"
   ]
  },
  {
   "cell_type": "code",
   "execution_count": 19,
   "metadata": {},
   "outputs": [],
   "source": [
    "#add-1 smoothing\n",
    "LaplaceianProbs = {}\n",
    "\n",
    "for i in unigramCounts:\n",
    "    for j in unigramCounts:\n",
    "        \n",
    "        \n",
    "        N = unigramCountsDict[i[0]]\n",
    "        V = Vocabulary\n",
    "        \n",
    "        try:\n",
    "            Ci = bigramCountsDict[(i[0], j[0])]\n",
    "            LaplaceianProbs[(i[0], j[0])] = (1+Ci)/(V+N)\n",
    "        except:\n",
    "            LaplaceianProbs[(i[0], j[0])] = (1)/(V+N)\n",
    "#print(LaplaceianProbs)"
   ]
  },
  {
   "cell_type": "code",
   "execution_count": 20,
   "metadata": {},
   "outputs": [],
   "source": [
    "#reconstituted probabilities\n",
    "reconProbs = {}\n",
    "\n",
    "for i in unigramCounts:\n",
    "    for j in unigramCounts:\n",
    "        N = unigramCountsDict[i[0]]\n",
    "        Ci_1 = N\n",
    "        V = Vocabulary\n",
    "        try:\n",
    "            Ci = bigramCountsDict[(i[0], j[0])]\n",
    "            reconProbs[(i[0], j[0])] = (1 + Ci)*(Ci_1)/(V+N)\n",
    "        except:\n",
    "            reconProbs[(i[0], j[0])] = Ci_1/(V + N)\n",
    "#print(reconProbs)"
   ]
  },
  {
   "cell_type": "code",
   "execution_count": 21,
   "metadata": {},
   "outputs": [
    {
     "name": "stdout",
     "output_type": "stream",
     "text": [
      "0.01937046004842615\n",
      "0.0008680555555555555\n",
      "0.00035248501938667606\n",
      "0.0007116171499733144\n",
      "0.00047732696897374703\n",
      "0.0003558085749866572\n",
      "0.0005346640527535199\n",
      "0.000479463001438389\n",
      "0.00035618878005342833\n",
      "0.00035618878005342833\n",
      "0.14015438171636144\n",
      "3.2652026877830996e-33\n"
     ]
    }
   ],
   "source": [
    "#Test split to calculate laplacian smoothing effect\n",
    "TestLapProb = 1;\n",
    "for i in bigramTestSplit:\n",
    "    try:\n",
    "        print(LaplaceianProbs[i])\n",
    "        TestLapProb = TestLapProb * LaplaceianProbs[i]\n",
    "    except:\n",
    "        print(\"notfound\")\n",
    "\n",
    "print(TestLapProb)"
   ]
  }
 ],
 "metadata": {
  "kernelspec": {
   "display_name": "Python 3",
   "language": "python",
   "name": "python3"
  },
  "language_info": {
   "codemirror_mode": {
    "name": "ipython",
    "version": 3
   },
   "file_extension": ".py",
   "mimetype": "text/x-python",
   "name": "python",
   "nbconvert_exporter": "python",
   "pygments_lexer": "ipython3",
   "version": "3.6.5"
  }
 },
 "nbformat": 4,
 "nbformat_minor": 2
}
